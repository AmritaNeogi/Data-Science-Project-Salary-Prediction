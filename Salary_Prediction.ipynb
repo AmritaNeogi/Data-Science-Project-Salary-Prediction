{
 "cells": [
  {
   "cell_type": "markdown",
   "id": "6feabc65",
   "metadata": {},
   "source": [
    "# Salary Prediction"
   ]
  },
  {
   "cell_type": "markdown",
   "id": "0de35b5f",
   "metadata": {},
   "source": [
    "This is a simple linear regression predictive model that optimizes salary prediction based on experience. The main aim is to understand the correlation between years of experience and salary."
   ]
  },
  {
   "cell_type": "markdown",
   "id": "05cf094e",
   "metadata": {},
   "source": [
    "### Dataset - Kaggle:  https://www.kaggle.com/code/lakyierealice/simple-linear-regression/input?scriptVersionId=120332371&select=Salary_dataset.csv"
   ]
  },
  {
   "cell_type": "code",
   "execution_count": 304,
   "id": "8fd33173",
   "metadata": {},
   "outputs": [],
   "source": [
    "# import libraries\n",
    "\n",
    "import warnings\n",
    "import pandas as pd\n",
    "import seaborn as sns\n",
    "import matplotlib.pyplot as plt\n",
    "from sklearn.model_selection import train_test_split,GridSearchCV\n",
    "#from plotnine import ggplot, aes, geom_bar, theme_minimal, labs\n",
    "from sklearn.linear_model import LinearRegression\n",
    "import numpy as np\n",
    "import matplotlib.pyplot as plt\n",
    "from sklearn.metrics import mean_squared_error, mean_absolute_error, r2_score\n",
    "from sklearn.preprocessing import StandardScaler"
   ]
  },
  {
   "cell_type": "code",
   "execution_count": 305,
   "id": "9074a810",
   "metadata": {},
   "outputs": [
    {
     "data": {
      "text/html": [
       "<div>\n",
       "<style scoped>\n",
       "    .dataframe tbody tr th:only-of-type {\n",
       "        vertical-align: middle;\n",
       "    }\n",
       "\n",
       "    .dataframe tbody tr th {\n",
       "        vertical-align: top;\n",
       "    }\n",
       "\n",
       "    .dataframe thead th {\n",
       "        text-align: right;\n",
       "    }\n",
       "</style>\n",
       "<table border=\"1\" class=\"dataframe\">\n",
       "  <thead>\n",
       "    <tr style=\"text-align: right;\">\n",
       "      <th></th>\n",
       "      <th>Unnamed: 0</th>\n",
       "      <th>YearsExperience</th>\n",
       "      <th>Salary</th>\n",
       "    </tr>\n",
       "  </thead>\n",
       "  <tbody>\n",
       "    <tr>\n",
       "      <th>0</th>\n",
       "      <td>0</td>\n",
       "      <td>1.2</td>\n",
       "      <td>39344.0</td>\n",
       "    </tr>\n",
       "    <tr>\n",
       "      <th>1</th>\n",
       "      <td>1</td>\n",
       "      <td>1.4</td>\n",
       "      <td>46206.0</td>\n",
       "    </tr>\n",
       "    <tr>\n",
       "      <th>2</th>\n",
       "      <td>2</td>\n",
       "      <td>1.6</td>\n",
       "      <td>37732.0</td>\n",
       "    </tr>\n",
       "    <tr>\n",
       "      <th>3</th>\n",
       "      <td>3</td>\n",
       "      <td>2.1</td>\n",
       "      <td>43526.0</td>\n",
       "    </tr>\n",
       "    <tr>\n",
       "      <th>4</th>\n",
       "      <td>4</td>\n",
       "      <td>2.3</td>\n",
       "      <td>39892.0</td>\n",
       "    </tr>\n",
       "    <tr>\n",
       "      <th>5</th>\n",
       "      <td>5</td>\n",
       "      <td>3.0</td>\n",
       "      <td>56643.0</td>\n",
       "    </tr>\n",
       "    <tr>\n",
       "      <th>6</th>\n",
       "      <td>6</td>\n",
       "      <td>3.1</td>\n",
       "      <td>60151.0</td>\n",
       "    </tr>\n",
       "    <tr>\n",
       "      <th>7</th>\n",
       "      <td>7</td>\n",
       "      <td>3.3</td>\n",
       "      <td>54446.0</td>\n",
       "    </tr>\n",
       "    <tr>\n",
       "      <th>8</th>\n",
       "      <td>8</td>\n",
       "      <td>3.3</td>\n",
       "      <td>64446.0</td>\n",
       "    </tr>\n",
       "    <tr>\n",
       "      <th>9</th>\n",
       "      <td>9</td>\n",
       "      <td>3.8</td>\n",
       "      <td>57190.0</td>\n",
       "    </tr>\n",
       "  </tbody>\n",
       "</table>\n",
       "</div>"
      ],
      "text/plain": [
       "   Unnamed: 0  YearsExperience   Salary\n",
       "0           0              1.2  39344.0\n",
       "1           1              1.4  46206.0\n",
       "2           2              1.6  37732.0\n",
       "3           3              2.1  43526.0\n",
       "4           4              2.3  39892.0\n",
       "5           5              3.0  56643.0\n",
       "6           6              3.1  60151.0\n",
       "7           7              3.3  54446.0\n",
       "8           8              3.3  64446.0\n",
       "9           9              3.8  57190.0"
      ]
     },
     "execution_count": 305,
     "metadata": {},
     "output_type": "execute_result"
    }
   ],
   "source": [
    "# Load data\n",
    "\n",
    "# reading data using pandas\n",
    "data = pd.read_csv(\"C:/Users/amrit/OneDrive/Documents/GitHub/Data-Science-Project-Salary-Prediction/Salary_dataset.csv\")\n",
    "# display data\n",
    "data.head(10)"
   ]
  },
  {
   "cell_type": "code",
   "execution_count": 306,
   "id": "7833cc3f",
   "metadata": {},
   "outputs": [
    {
     "data": {
      "text/html": [
       "<div>\n",
       "<style scoped>\n",
       "    .dataframe tbody tr th:only-of-type {\n",
       "        vertical-align: middle;\n",
       "    }\n",
       "\n",
       "    .dataframe tbody tr th {\n",
       "        vertical-align: top;\n",
       "    }\n",
       "\n",
       "    .dataframe thead th {\n",
       "        text-align: right;\n",
       "    }\n",
       "</style>\n",
       "<table border=\"1\" class=\"dataframe\">\n",
       "  <thead>\n",
       "    <tr style=\"text-align: right;\">\n",
       "      <th></th>\n",
       "      <th>Unnamed: 0</th>\n",
       "      <th>YearsExperience</th>\n",
       "      <th>Salary</th>\n",
       "    </tr>\n",
       "  </thead>\n",
       "  <tbody>\n",
       "    <tr>\n",
       "      <th>count</th>\n",
       "      <td>30.000000</td>\n",
       "      <td>30.000000</td>\n",
       "      <td>30.000000</td>\n",
       "    </tr>\n",
       "    <tr>\n",
       "      <th>mean</th>\n",
       "      <td>14.500000</td>\n",
       "      <td>5.413333</td>\n",
       "      <td>76004.000000</td>\n",
       "    </tr>\n",
       "    <tr>\n",
       "      <th>std</th>\n",
       "      <td>8.803408</td>\n",
       "      <td>2.837888</td>\n",
       "      <td>27414.429785</td>\n",
       "    </tr>\n",
       "    <tr>\n",
       "      <th>min</th>\n",
       "      <td>0.000000</td>\n",
       "      <td>1.200000</td>\n",
       "      <td>37732.000000</td>\n",
       "    </tr>\n",
       "    <tr>\n",
       "      <th>25%</th>\n",
       "      <td>7.250000</td>\n",
       "      <td>3.300000</td>\n",
       "      <td>56721.750000</td>\n",
       "    </tr>\n",
       "    <tr>\n",
       "      <th>50%</th>\n",
       "      <td>14.500000</td>\n",
       "      <td>4.800000</td>\n",
       "      <td>65238.000000</td>\n",
       "    </tr>\n",
       "    <tr>\n",
       "      <th>75%</th>\n",
       "      <td>21.750000</td>\n",
       "      <td>7.800000</td>\n",
       "      <td>100545.750000</td>\n",
       "    </tr>\n",
       "    <tr>\n",
       "      <th>max</th>\n",
       "      <td>29.000000</td>\n",
       "      <td>10.600000</td>\n",
       "      <td>122392.000000</td>\n",
       "    </tr>\n",
       "  </tbody>\n",
       "</table>\n",
       "</div>"
      ],
      "text/plain": [
       "       Unnamed: 0  YearsExperience         Salary\n",
       "count   30.000000        30.000000      30.000000\n",
       "mean    14.500000         5.413333   76004.000000\n",
       "std      8.803408         2.837888   27414.429785\n",
       "min      0.000000         1.200000   37732.000000\n",
       "25%      7.250000         3.300000   56721.750000\n",
       "50%     14.500000         4.800000   65238.000000\n",
       "75%     21.750000         7.800000  100545.750000\n",
       "max     29.000000        10.600000  122392.000000"
      ]
     },
     "execution_count": 306,
     "metadata": {},
     "output_type": "execute_result"
    }
   ],
   "source": [
    "data.describe() # descriptive statistics"
   ]
  },
  {
   "cell_type": "code",
   "execution_count": 307,
   "id": "36b0f346",
   "metadata": {},
   "outputs": [
    {
     "data": {
      "text/plain": [
       "Unnamed: 0         0\n",
       "YearsExperience    0\n",
       "Salary             0\n",
       "dtype: int64"
      ]
     },
     "execution_count": 307,
     "metadata": {},
     "output_type": "execute_result"
    }
   ],
   "source": [
    "# Check for NA values\n",
    "data[data.columns].isnull().sum()"
   ]
  },
  {
   "cell_type": "markdown",
   "id": "c3311a01",
   "metadata": {},
   "source": [
    "No missing values found."
   ]
  },
  {
   "cell_type": "code",
   "execution_count": 308,
   "id": "1905102c",
   "metadata": {},
   "outputs": [
    {
     "data": {
      "image/png": "[encoded data removed]",
      "text/plain": [
       "<Figure size 576x432 with 1 Axes>"
      ]
     },
     "metadata": {
      "needs_background": "light"
     },
     "output_type": "display_data"
    }
   ],
   "source": [
    "# Visualize the data\n",
    "\n",
    "# Create a scatter plot\n",
    "plt.figure(figsize=(8, 6))  # Optional: Adjust the figure size\n",
    "plt.scatter(data['YearsExperience'], data['Salary'], marker='o', color='b', alpha=0.7)\n",
    "\n",
    "# Adding labels and title\n",
    "plt.xlabel('Years of Experience')\n",
    "plt.ylabel('Salary')\n",
    "plt.title('Years of Experience vs. Salary')\n",
    "\n",
    "# Show the plot\n",
    "plt.grid(True)  # Optional: Add gridlines for better visualization\n",
    "plt.show()"
   ]
  },
  {
   "cell_type": "markdown",
   "id": "f2d27e16",
   "metadata": {},
   "source": [
    "### Correlation Matrix "
   ]
  },
  {
   "cell_type": "code",
   "execution_count": 310,
   "id": "0ec7fa4b",
   "metadata": {},
   "outputs": [
    {
     "data": {
      "image/png": "[encoded data removed]",
      "text/plain": [
       "<Figure size 720x576 with 2 Axes>"
      ]
     },
     "metadata": {
      "needs_background": "light"
     },
     "output_type": "display_data"
    }
   ],
   "source": [
    "#correlation_matrix = data.corr()\n",
    "\n",
    "# Calculate the correlation matrix for 'YearsExperience' and 'Salary'\n",
    "correlation_matrix = data[['YearsExperience', 'Salary']].corr()\n",
    "\n",
    "# visualizing it\n",
    "\n",
    "# Create a heatmap\n",
    "plt.figure(figsize=(10, 8))\n",
    "sns.heatmap(correlation_matrix, annot=True, cmap='coolwarm', fmt=\".2f\")\n",
    "plt.title('Correlation Matrix Heatmap')\n",
    "plt.show()"
   ]
  },
  {
   "cell_type": "code",
   "execution_count": 265,
   "id": "b03cd220",
   "metadata": {},
   "outputs": [
    {
     "name": "stdout",
     "output_type": "stream",
     "text": [
      "Correlation between YearsExperience and Salary: 0.97824161848876\n"
     ]
    }
   ],
   "source": [
    "# Accessing the correlation between both the fields\n",
    "correlation = correlation_matrix.loc['YearsExperience', 'Salary']\n",
    "\n",
    "print(\"Correlation between YearsExperience and Salary:\", correlation)"
   ]
  },
  {
   "cell_type": "markdown",
   "id": "b95c632a",
   "metadata": {},
   "source": [
    "This indicates that there is a strong positive correlation between the 'YearsExperience' and 'Salary' columns in the dataset. The correlation coefficient value of 0.97824161848876 suggests a very close linear relationship between these two variables. When one variable increases, the other tends to increase as well, and vice versa."
   ]
  },
  {
   "cell_type": "code",
   "execution_count": 266,
   "id": "e6ca3a72",
   "metadata": {},
   "outputs": [
    {
     "data": {
      "image/png": "[encoded data removed]",
      "text/plain": [
       "<Figure size 720x432 with 1 Axes>"
      ]
     },
     "metadata": {
      "needs_background": "light"
     },
     "output_type": "display_data"
    }
   ],
   "source": [
    "# Group the data into bins based on years of experience and calculate the average salary for each bin\n",
    "bins = [0, 2, 5, 10, float('inf')]\n",
    "labels = ['0-2 years', '3-5 years', '6-10 years', '10+ years']\n",
    "data['Experience_Group'] = pd.cut(data['YearsExperience'], bins=bins, labels=labels, right=False)\n",
    "\n",
    "average_salary_by_experience = data.groupby('Experience_Group')['Salary'].mean().reset_index()\n",
    "\n",
    "# # Create the bar plot using ggplot\n",
    "# plot = (\n",
    "#     ggplot(average_salary_by_experience, aes(x='Experience_Group', y='Salary')) +\n",
    "#     geom_bar(stat='identity', fill='blue', alpha=0.5) +\n",
    "#     theme_minimal() +\n",
    "#     labs(x='Years of Experience', y='Average Salary', title='Average Salary by Years of Experience')\n",
    "# )\n",
    "\n",
    "# print(plot)\n",
    "\n",
    "\n",
    "# Create the bar plot using matplotlib\n",
    "plt.figure(figsize=(10, 6))\n",
    "plt.bar(average_salary_by_experience['Experience_Group'], average_salary_by_experience['Salary'], color='blue', alpha=0.5)\n",
    "plt.xlabel('Years of Experience')\n",
    "plt.ylabel('Average Salary')\n",
    "plt.title('Average Salary by Years of Experience')\n",
    "plt.xticks(rotation=0, ha='right')\n",
    "\n",
    "# Show the plot\n",
    "plt.tight_layout()\n",
    "plt.show()\n",
    "\n"
   ]
  },
  {
   "cell_type": "markdown",
   "id": "7384d265",
   "metadata": {},
   "source": [
    "### Split the Dataset"
   ]
  },
  {
   "cell_type": "code",
   "execution_count": 267,
   "id": "5fda0648",
   "metadata": {},
   "outputs": [],
   "source": [
    "# Splitting the data into training and testing sets\n",
    "# instead of fitting the model on the entire data, we are doing it on specific columns\n",
    "# 80% training data and 20% testing data\n",
    "\n",
    "X_train, X_test, y_train, y_test = train_test_split(data['YearsExperience'], data['Salary'], test_size= 0.2, random_state= 42)"
   ]
  },
  {
   "cell_type": "code",
   "execution_count": 268,
   "id": "de22cea9",
   "metadata": {},
   "outputs": [
    {
     "data": {
      "text/plain": [
       "28    10.4\n",
       "24     8.8\n",
       "12     4.1\n",
       "0      1.2\n",
       "4      2.3\n",
       "16     5.2\n",
       "5      3.0\n",
       "13     4.2\n",
       "11     4.1\n",
       "22     8.0\n",
       "1      1.4\n",
       "2      1.6\n",
       "25     9.1\n",
       "3      2.1\n",
       "21     7.2\n",
       "26     9.6\n",
       "18     6.0\n",
       "29    10.6\n",
       "20     6.9\n",
       "7      3.3\n",
       "10     4.0\n",
       "14     4.6\n",
       "19     6.1\n",
       "6      3.1\n",
       "Name: YearsExperience, dtype: float64"
      ]
     },
     "execution_count": 268,
     "metadata": {},
     "output_type": "execute_result"
    }
   ],
   "source": [
    "X_train"
   ]
  },
  {
   "cell_type": "markdown",
   "id": "2cac4a87",
   "metadata": {},
   "source": [
    "## Data Modeling"
   ]
  },
  {
   "cell_type": "markdown",
   "id": "c415b20e",
   "metadata": {},
   "source": [
    "### Simple Linear Regression "
   ]
  },
  {
   "cell_type": "code",
   "execution_count": 269,
   "id": "947977cd",
   "metadata": {},
   "outputs": [
    {
     "data": {
      "text/plain": [
       "LinearRegression()"
      ]
     },
     "execution_count": 269,
     "metadata": {},
     "output_type": "execute_result"
    }
   ],
   "source": [
    "reg_model = LinearRegression()\n",
    "reg_model.fit(X_train.values.reshape(-1, 1), y_train) # X_train reshaped into 2D array with a single feature\n"
   ]
  },
  {
   "cell_type": "markdown",
   "id": "db67f738",
   "metadata": {},
   "source": [
    "## Model Optimization "
   ]
  },
  {
   "cell_type": "markdown",
   "id": "68bae0e6",
   "metadata": {},
   "source": [
    "We will use **Gradient Descent** as a method to optimize our model.\n",
    "The goal of gradient descent is to iteratively update the parameters of a model to minimize a cost function (also known as a loss function or objective function). In the context of machine learning, the cost function measures how well the model performs on the training data. By finding the optimal parameters that minimize the cost function, the model achieves the best possible fit to the data."
   ]
  },
  {
   "cell_type": "markdown",
   "id": "f0ba8aac",
   "metadata": {},
   "source": [
    "The process of updating parameters with gradient descent can be described by the following formula (for a single parameter, but extends to multiple parameters):\n",
    "\n",
    "**new_parameter = old_parameter - learning_rate * gradient**\n"
   ]
  },
  {
   "cell_type": "markdown",
   "id": "2b799891",
   "metadata": {},
   "source": [
    "**Note:** There are two main variants of gradient descent:\n",
    "\n",
    "*Batch Gradient Descent*: In batch gradient descent, the entire training dataset is used to compute the gradient in each iteration. It provides accurate gradients but can be computationally expensive for large datasets.\n",
    "\n",
    "*Stochastic Gradient Descent (SGD)*: In stochastic gradient descent, only one data point (or a small batch of data points) is used to compute the gradient in each iteration. It is computationally more efficient but can result in noisy gradients.\n",
    "\n",
    "\n",
    "For our model we will use SGD.\n"
   ]
  },
  {
   "cell_type": "code",
   "execution_count": 270,
   "id": "4475a0b5",
   "metadata": {},
   "outputs": [],
   "source": [
    "# creating a function for gradient decent\n",
    "\n",
    "def gradient_descent(X,y,learning_rate, num_iterations):\n",
    "       \n",
    "    # Initialize model parameters (coefficients)\n",
    "    theta0 = 0  # Intercept\n",
    "    theta1 = 0  # Slope\n",
    "    \n",
    "    m = len(X)  # Number of data points\n",
    "    losses = [] # store loss at each iterration\n",
    "    \n",
    "    # Stochastic Gradient Descent (SGD) algorithm\n",
    "    for _ in range(num_iterations):\n",
    "        # Predict the salary using the current parametersabs\n",
    "        y_pred = theta0 + theta1 * X\n",
    "            \n",
    "        # Compute the errors (difference between predicted and actual salary)\n",
    "        error = y_pred - y\n",
    "            \n",
    "        # Update parameters using the gradient\n",
    "        theta0_gradient = (1/m) * np.sum(error)\n",
    "        theta1_gradient = (1/m) * np.sum(error * X)  \n",
    "        \n",
    "        # Gradient clipping\n",
    "#         max_grad = np.max(np.abs([theta0_gradient, theta1_gradient]))\n",
    "#         if max_grad > clip_value:\n",
    "#             theta0_gradient *= clip_value / max_grad\n",
    "#             theta1_gradient *= clip_value / max_grad\n",
    "                \n",
    "            \n",
    "        # Update parameters using the gradients\n",
    "        theta0 -= learning_rate  * theta0_gradient\n",
    "        theta1 -= learning_rate * theta1_gradient\n",
    "        \n",
    "        # calculate loss\n",
    "        loss = np.mean(error**2)\n",
    "        losses.append(loss)\n",
    "        \n",
    "        \n",
    "    return theta0, theta1, losses  \n"
   ]
  },
  {
   "cell_type": "code",
   "execution_count": 271,
   "id": "04271786",
   "metadata": {},
   "outputs": [
    {
     "name": "stdout",
     "output_type": "stream",
     "text": [
      "Intercept (theta0): 6388.514788821579\n",
      "Slope (theta1): 12063.80655878697\n",
      "Average Losses: 204939744.90598413\n"
     ]
    },
    {
     "data": {
      "image/png": "[encoded data removed]",
      "text/plain": [
       "<Figure size 576x432 with 1 Axes>"
      ]
     },
     "metadata": {
      "needs_background": "light"
     },
     "output_type": "display_data"
    }
   ],
   "source": [
    "# Hyperparameters\n",
    "learning_rate = 0.001\n",
    "num_iterations = 1000\n",
    "#clip_value = 0.5\n",
    "\n",
    "# Call the gradient descent function\n",
    "theta0, theta1, losses = gradient_descent(X_train, y_train, learning_rate, num_iterations)\n",
    "\n",
    "# Print the final model parameters\n",
    "print(\"Intercept (theta0):\", theta0)\n",
    "print(\"Slope (theta1):\", theta1)\n",
    "print(\"Average Losses:\", np.mean(losses)) # taking the average of losses\n",
    "\n",
    "\n",
    "try:\n",
    "    # Plot the original data and the fitted line\n",
    "    plt.figure(figsize=(8, 6))\n",
    "    plt.scatter(X_train.values, y_train.values, label='Data', color='blue')\n",
    "    plt.plot(X_train.values, theta0 + theta1 * X_train.values, label='Fitted Line', color='red')\n",
    "    plt.xlabel('Years of Experience')\n",
    "    plt.ylabel(' Salary')\n",
    "    plt.legend()\n",
    "    plt.show()\n",
    "except ValueError:\n",
    "    pass\n"
   ]
  },
  {
   "cell_type": "code",
   "execution_count": 272,
   "id": "5522cd66",
   "metadata": {},
   "outputs": [
    {
     "data": {
      "image/png": "[encoded data removed]",
      "text/plain": [
       "<Figure size 576x432 with 1 Axes>"
      ]
     },
     "metadata": {
      "needs_background": "light"
     },
     "output_type": "display_data"
    }
   ],
   "source": [
    "# plot the loses after each iteration\n",
    "def plot_losses(losses):\n",
    "    plt.figure(figsize=(8, 6))\n",
    "    #plt.plot(range(len(losses)), losses, '-o', color='red', label='Loss')\n",
    "    plt.plot(range(1, num_iterations +1), losses)\n",
    "    plt.xlabel('Iterations')\n",
    "    plt.ylabel('Mean Squared Error(MSE) Losses')\n",
    "    plt.title('Convergence of Gradient Descent')\n",
    "    #plt.legend()\n",
    "    plt.grid(True)\n",
    "    plt.show()\n",
    "            \n",
    "plot_losses(losses)    "
   ]
  },
  {
   "cell_type": "code",
   "execution_count": 273,
   "id": "7d39697f",
   "metadata": {},
   "outputs": [
    {
     "name": "stdout",
     "output_type": "stream",
     "text": [
      "Mean square error: 110306234.52140729\n",
      "Mean absolute error: 9009.942541373912\n",
      "R-square: 0.7840502926714972\n"
     ]
    }
   ],
   "source": [
    "y_pred = theta0 + theta1 * X_test\n",
    "\n",
    "# Evaluate the model performance\n",
    "mse = mean_squared_error(y_test, y_pred)\n",
    "mae = mean_absolute_error(y_test, y_pred)\n",
    "\n",
    "r2 = r2_score(y_test, y_pred)\n",
    "\n",
    "\n",
    "print(\"Mean square error:\", mse)\n",
    "print(\"Mean absolute error:\", mae)\n",
    "print(\"R-square:\", r2)"
   ]
  },
  {
   "cell_type": "markdown",
   "id": "7d22cf05",
   "metadata": {},
   "source": [
    "### Hyperparameter Tuning using Grid Search"
   ]
  },
  {
   "cell_type": "code",
   "execution_count": 274,
   "id": "346fdcfb",
   "metadata": {},
   "outputs": [
    {
     "name": "stdout",
     "output_type": "stream",
     "text": [
      "dict_keys(['copy_X', 'fit_intercept', 'n_jobs', 'normalize', 'positive'])\n"
     ]
    }
   ],
   "source": [
    "# Get the list of available hyperparameters for LinearRegression\n",
    "print(reg_model.get_params().keys())"
   ]
  },
  {
   "cell_type": "code",
   "execution_count": 275,
   "id": "66e0749a",
   "metadata": {},
   "outputs": [],
   "source": [
    "def grid_search_func(model, X, y):\n",
    "    param_grid = {'fit_intercept': [True, False],\n",
    "             'n_jobs': [True, False],\n",
    "             }\n",
    "    grid_search = GridSearchCV(model, param_grid, cv=5)\n",
    "    grid_search.fit(X.values.reshape(-1,1), y)\n",
    "    \n",
    "    return "
   ]
  },
  {
   "cell_type": "code",
   "execution_count": 276,
   "id": "3d5b50d4",
   "metadata": {},
   "outputs": [],
   "source": [
    "grid_search_func(reg_model, X_train, y_train)"
   ]
  },
  {
   "cell_type": "code",
   "execution_count": 277,
   "id": "d842c4fb",
   "metadata": {},
   "outputs": [
    {
     "name": "stdout",
     "output_type": "stream",
     "text": [
      "Best Model: LinearRegression(fit_intercept=False, n_jobs=True)\n",
      "Best parameter: {'fit_intercept': False, 'n_jobs': True}\n"
     ]
    }
   ],
   "source": [
    "# Retrieve the best model nd its parameter\n",
    "best_model = grid_search.best_estimator_\n",
    "best_param = grid_search.best_params_\n",
    "\n",
    "print(\"Best Model:\", best_model)\n",
    "print(\"Best parameter:\", best_param)"
   ]
  },
  {
   "cell_type": "code",
   "execution_count": 278,
   "id": "9e073a4c",
   "metadata": {},
   "outputs": [],
   "source": [
    "# Now lets make prediction on testing set using the best model\n",
    "y_pred_best = best_model.predict(X_test.values.reshape(-1,1))"
   ]
  },
  {
   "cell_type": "code",
   "execution_count": 279,
   "id": "deb351af",
   "metadata": {},
   "outputs": [
    {
     "name": "stdout",
     "output_type": "stream",
     "text": [
      "Mean square error: 7429563710.2418785\n",
      "Mean absolute error: 83179.72243650306\n",
      "R-square: -13.545071869839132\n"
     ]
    }
   ],
   "source": [
    "# Evaluate the model performance\n",
    "mse = mean_squared_error(y_test, y_pred_best)\n",
    "mae = mean_absolute_error(y_test, y_pred_best)\n",
    "\n",
    "r2 = r2_score(y_test, y_pred_best)\n",
    "print(\"Mean square error:\", mse)\n",
    "print(\"Mean absolute error:\", mae)\n",
    "print(\"R-square:\", r2)"
   ]
  },
  {
   "cell_type": "markdown",
   "id": "8d533803",
   "metadata": {},
   "source": [
    "#### Creating a 3D plot to visualize the optimization surface for a linear regression model "
   ]
  },
  {
   "cell_type": "code",
   "execution_count": 280,
   "id": "9da8a189",
   "metadata": {},
   "outputs": [
    {
     "data": {
      "image/png": "[encoded data removed]",
      "text/plain": [
       "<Figure size 720x720 with 2 Axes>"
      ]
     },
     "metadata": {
      "needs_background": "light"
     },
     "output_type": "display_data"
    }
   ],
   "source": [
    "# create a range of parameter values for visualization\n",
    "theta1_values = np.linspace(-10000, 10000, 100)\n",
    "theta0_values = np.linspace(-10000, 10000, 100)\n",
    "\n",
    "# create a meshgrid of parameter values\n",
    "Theta0, Theta1 = np.meshgrid(theta0_values, theta1_values)\n",
    "\n",
    "#Initialize an array to store the mean squared error values\n",
    "mse_values = np.zeros_like(Theta0)\n",
    "\n",
    "\n",
    "#Calculate the mean squared error for each parameter combination\n",
    "for i in range(len(theta0_values)):\n",
    "    for j in range(len(theta1_values)):\n",
    "    \n",
    "         y_pred = Theta0[i][j] + Theta1[i][j] * X_train\n",
    "         mse_values[i][j] = np.mean((y_pred - y_train) ** 2)\n",
    "\n",
    "try:\n",
    "    # plot the optimization surface\n",
    "    fig = plt.figure(figsize = (10, 10))\n",
    "    ax = fig.add_subplot(111, projection = '3d')\n",
    "    surf = ax.plot_surface(Theta0, Theta1, mse_values, cmap='viridis', alpha = 0.8)\n",
    "\n",
    "    # Add a color bar which maps values to colors\n",
    "    cbar = fig.colorbar(surf, shrink = 0.5, aspect = 5 )\n",
    "\n",
    "    cbar.ax.set_ylabel('Mean Squared Error', rotation = 270, labelpad = 15)\n",
    "\n",
    "    ax.set_xlabel('Theta0', labelpad = 10)\n",
    "    ax.set_ylabel('Theta1', labelpad = 10)\n",
    "    #ax.set_zlabel(labelpad = 10)\n",
    "\n",
    "    ax.set_title('Optimization Surface')\n",
    "except Exception as e:\n",
    "    # Handle the exception\n",
    "    print(\"An error occurred while setting the colorbar label:\", e)\n",
    "\n",
    "\n",
    "plt.show()"
   ]
  },
  {
   "cell_type": "markdown",
   "id": "c0bb2a18",
   "metadata": {},
   "source": [
    "### Normalize the Data"
   ]
  },
  {
   "cell_type": "code",
   "execution_count": 281,
   "id": "02e009fd",
   "metadata": {},
   "outputs": [],
   "source": [
    "# Convert the 'YearsExperience' column to float values, handling non-numeric values\n",
    "data['YearsExperience'] = pd.to_numeric(data['YearsExperience'], errors='coerce')\n",
    "\n",
    "# Create the StandardScaler object and fit it to your data\n",
    "scaler = StandardScaler()\n",
    "scaled_data = scaler.fit_transform(data[['YearsExperience', 'Salary']])\n",
    "\n",
    "data['ScaledYearsExperience'] = scaled_data[:, 0]\n",
    "data['ScaledSalary'] = scaled_data[:, 1]"
   ]
  },
  {
   "cell_type": "code",
   "execution_count": 282,
   "id": "10b3b01d",
   "metadata": {},
   "outputs": [
    {
     "data": {
      "text/html": [
       "<div>\n",
       "<style scoped>\n",
       "    .dataframe tbody tr th:only-of-type {\n",
       "        vertical-align: middle;\n",
       "    }\n",
       "\n",
       "    .dataframe tbody tr th {\n",
       "        vertical-align: top;\n",
       "    }\n",
       "\n",
       "    .dataframe thead th {\n",
       "        text-align: right;\n",
       "    }\n",
       "</style>\n",
       "<table border=\"1\" class=\"dataframe\">\n",
       "  <thead>\n",
       "    <tr style=\"text-align: right;\">\n",
       "      <th></th>\n",
       "      <th>Unnamed: 0</th>\n",
       "      <th>YearsExperience</th>\n",
       "      <th>Salary</th>\n",
       "      <th>Experience_Group</th>\n",
       "      <th>ScaledYearsExperience</th>\n",
       "      <th>ScaledSalary</th>\n",
       "    </tr>\n",
       "  </thead>\n",
       "  <tbody>\n",
       "    <tr>\n",
       "      <th>0</th>\n",
       "      <td>0</td>\n",
       "      <td>1.2</td>\n",
       "      <td>39344.0</td>\n",
       "      <td>0-2 years</td>\n",
       "      <td>-1.510053</td>\n",
       "      <td>-1.360113</td>\n",
       "    </tr>\n",
       "    <tr>\n",
       "      <th>1</th>\n",
       "      <td>1</td>\n",
       "      <td>1.4</td>\n",
       "      <td>46206.0</td>\n",
       "      <td>0-2 years</td>\n",
       "      <td>-1.438373</td>\n",
       "      <td>-1.105527</td>\n",
       "    </tr>\n",
       "    <tr>\n",
       "      <th>2</th>\n",
       "      <td>2</td>\n",
       "      <td>1.6</td>\n",
       "      <td>37732.0</td>\n",
       "      <td>0-2 years</td>\n",
       "      <td>-1.366693</td>\n",
       "      <td>-1.419919</td>\n",
       "    </tr>\n",
       "    <tr>\n",
       "      <th>3</th>\n",
       "      <td>3</td>\n",
       "      <td>2.1</td>\n",
       "      <td>43526.0</td>\n",
       "      <td>3-5 years</td>\n",
       "      <td>-1.187494</td>\n",
       "      <td>-1.204957</td>\n",
       "    </tr>\n",
       "    <tr>\n",
       "      <th>4</th>\n",
       "      <td>4</td>\n",
       "      <td>2.3</td>\n",
       "      <td>39892.0</td>\n",
       "      <td>3-5 years</td>\n",
       "      <td>-1.115814</td>\n",
       "      <td>-1.339781</td>\n",
       "    </tr>\n",
       "    <tr>\n",
       "      <th>5</th>\n",
       "      <td>5</td>\n",
       "      <td>3.0</td>\n",
       "      <td>56643.0</td>\n",
       "      <td>3-5 years</td>\n",
       "      <td>-0.864935</td>\n",
       "      <td>-0.718307</td>\n",
       "    </tr>\n",
       "    <tr>\n",
       "      <th>6</th>\n",
       "      <td>6</td>\n",
       "      <td>3.1</td>\n",
       "      <td>60151.0</td>\n",
       "      <td>3-5 years</td>\n",
       "      <td>-0.829096</td>\n",
       "      <td>-0.588158</td>\n",
       "    </tr>\n",
       "    <tr>\n",
       "      <th>7</th>\n",
       "      <td>7</td>\n",
       "      <td>3.3</td>\n",
       "      <td>54446.0</td>\n",
       "      <td>3-5 years</td>\n",
       "      <td>-0.757416</td>\n",
       "      <td>-0.799817</td>\n",
       "    </tr>\n",
       "    <tr>\n",
       "      <th>8</th>\n",
       "      <td>8</td>\n",
       "      <td>3.3</td>\n",
       "      <td>64446.0</td>\n",
       "      <td>3-5 years</td>\n",
       "      <td>-0.757416</td>\n",
       "      <td>-0.428810</td>\n",
       "    </tr>\n",
       "    <tr>\n",
       "      <th>9</th>\n",
       "      <td>9</td>\n",
       "      <td>3.8</td>\n",
       "      <td>57190.0</td>\n",
       "      <td>3-5 years</td>\n",
       "      <td>-0.578216</td>\n",
       "      <td>-0.698013</td>\n",
       "    </tr>\n",
       "  </tbody>\n",
       "</table>\n",
       "</div>"
      ],
      "text/plain": [
       "   Unnamed: 0  YearsExperience   Salary Experience_Group  \\\n",
       "0           0              1.2  39344.0        0-2 years   \n",
       "1           1              1.4  46206.0        0-2 years   \n",
       "2           2              1.6  37732.0        0-2 years   \n",
       "3           3              2.1  43526.0        3-5 years   \n",
       "4           4              2.3  39892.0        3-5 years   \n",
       "5           5              3.0  56643.0        3-5 years   \n",
       "6           6              3.1  60151.0        3-5 years   \n",
       "7           7              3.3  54446.0        3-5 years   \n",
       "8           8              3.3  64446.0        3-5 years   \n",
       "9           9              3.8  57190.0        3-5 years   \n",
       "\n",
       "   ScaledYearsExperience  ScaledSalary  \n",
       "0              -1.510053     -1.360113  \n",
       "1              -1.438373     -1.105527  \n",
       "2              -1.366693     -1.419919  \n",
       "3              -1.187494     -1.204957  \n",
       "4              -1.115814     -1.339781  \n",
       "5              -0.864935     -0.718307  \n",
       "6              -0.829096     -0.588158  \n",
       "7              -0.757416     -0.799817  \n",
       "8              -0.757416     -0.428810  \n",
       "9              -0.578216     -0.698013  "
      ]
     },
     "execution_count": 282,
     "metadata": {},
     "output_type": "execute_result"
    }
   ],
   "source": [
    "data.head(10)"
   ]
  },
  {
   "cell_type": "code",
   "execution_count": 283,
   "id": "89a60c2a",
   "metadata": {},
   "outputs": [],
   "source": [
    "X = data['ScaledYearsExperience'] # instead of fitting the model on the entire data, we are doing it on specific columns\n",
    "y = data['ScaledSalary'].dropna()  # target column"
   ]
  },
  {
   "cell_type": "code",
   "execution_count": 284,
   "id": "6a9dca35",
   "metadata": {},
   "outputs": [],
   "source": [
    "# Split the data into training and testing sets (80% training, 20% testing)\n",
    "X_train_normalize, X_test_normalize, y_train_normalize, y_test_normalize = train_test_split(X, y, test_size=0.2, random_state=42)"
   ]
  },
  {
   "cell_type": "code",
   "execution_count": 285,
   "id": "5cb6f063",
   "metadata": {},
   "outputs": [
    {
     "data": {
      "text/plain": [
       "28    1.787215\n",
       "24    1.213777\n",
       "12   -0.470697\n",
       "0    -1.510053\n",
       "4    -1.115814\n",
       "16   -0.076458\n",
       "5    -0.864935\n",
       "13   -0.434857\n",
       "11   -0.470697\n",
       "22    0.927058\n",
       "1    -1.438373\n",
       "2    -1.366693\n",
       "25    1.321296\n",
       "3    -1.187494\n",
       "21    0.640339\n",
       "26    1.500496\n",
       "18    0.210261\n",
       "29    1.858894\n",
       "20    0.532819\n",
       "7    -0.757416\n",
       "10   -0.506537\n",
       "14   -0.291498\n",
       "19    0.246100\n",
       "6    -0.829096\n",
       "Name: ScaledYearsExperience, dtype: float64"
      ]
     },
     "execution_count": 285,
     "metadata": {},
     "output_type": "execute_result"
    }
   ],
   "source": [
    "X_train_normalize"
   ]
  },
  {
   "cell_type": "code",
   "execution_count": 286,
   "id": "6a212df0",
   "metadata": {},
   "outputs": [],
   "source": [
    "# creating a function for gradient decent\n",
    "\n",
    "def gradient_descent_normalize(X,y,learning_rate, num_iterations):\n",
    "       \n",
    "    # Initialize model parameters (coefficients)\n",
    "    theta0 = 0  # Intercept\n",
    "    theta1 = 0  # Slope\n",
    "    \n",
    "    m = len(X)  # Number of data points\n",
    "    losses = [] # store loss at each iterration\n",
    "    \n",
    "    # Stochastic Gradient Descent (SGD) algorithm\n",
    "    for _ in range(num_iterations):\n",
    "        # Predict the salary using the current parametersabs\n",
    "        y_pred = theta0 + theta1 * X\n",
    "            \n",
    "        # Compute the errors (difference between predicted and actual salary)\n",
    "        error = y_pred - y\n",
    "            \n",
    "        # Update parameters using the gradient\n",
    "        theta0_gradient = (2/m) * np.sum(error)\n",
    "        theta1_gradient = (2/m) * np.sum(error * X)  \n",
    "               \n",
    "            \n",
    "        # Update parameters using the gradients\n",
    "        theta0 -= learning_rate  * theta0_gradient\n",
    "        theta1 -= learning_rate * theta1_gradient\n",
    "        \n",
    "        # calculate loss\n",
    "        loss = np.mean(error**2)\n",
    "        losses.append(loss)\n",
    "        \n",
    "        \n",
    "    return theta0, theta1, losses  \n"
   ]
  },
  {
   "cell_type": "code",
   "execution_count": 287,
   "id": "b4864e39",
   "metadata": {},
   "outputs": [],
   "source": [
    "# Perform gradient descent\n",
    "# Hyperparameters\n",
    "learning_rate = 0.001\n",
    "num_iterations = 1000\n",
    "\n",
    "# Call the gradient descent function\n",
    "theta0_normalize, theta1_normalize, losses_normalize = gradient_descent_normalize(X_train_normalize, y_train_normalize, learning_rate, num_iterations)"
   ]
  },
  {
   "cell_type": "code",
   "execution_count": 288,
   "id": "41733516",
   "metadata": {},
   "outputs": [
    {
     "name": "stdout",
     "output_type": "stream",
     "text": [
      "Intercept (theta0): -0.030693139908482336\n",
      "Slope (theta1): 0.8603989159122796\n",
      "Average Losses: 204939744.90598413\n"
     ]
    },
    {
     "data": {
      "image/png": "[encoded data removed]",
      "text/plain": [
       "<Figure size 576x432 with 1 Axes>"
      ]
     },
     "metadata": {
      "needs_background": "light"
     },
     "output_type": "display_data"
    }
   ],
   "source": [
    "# Print the final model parameters\n",
    "print(\"Intercept (theta0):\", theta0_normalize)\n",
    "print(\"Slope (theta1):\", theta1_normalize)\n",
    "print(\"Average Losses:\", np.mean(losses)) # taking the average of losses\n",
    "plot_losses(losses_normalize)"
   ]
  },
  {
   "cell_type": "markdown",
   "id": "880aedda",
   "metadata": {},
   "source": [
    "### Performing Hyperparameter Tuning on the Normalized data and fitting it on the Best Model"
   ]
  },
  {
   "cell_type": "code",
   "execution_count": 289,
   "id": "d01746ef",
   "metadata": {},
   "outputs": [],
   "source": [
    "grid_search_func(reg_model, X_train_normalize, y_train_normalize)"
   ]
  },
  {
   "cell_type": "code",
   "execution_count": 290,
   "id": "44f42bed",
   "metadata": {},
   "outputs": [],
   "source": [
    "# Now lets make prediction on testing set using the best model\n",
    "y_pred_normalize_best = best_model.predict(X_test_normalize.values.reshape(-1,1))"
   ]
  },
  {
   "cell_type": "code",
   "execution_count": 291,
   "id": "18d2ba13",
   "metadata": {},
   "outputs": [
    {
     "name": "stdout",
     "output_type": "stream",
     "text": [
      "(6,)\n",
      "(6,)\n"
     ]
    }
   ],
   "source": [
    "print(y_pred_normalize_best.shape)\n",
    "print(y_test_normalize.shape)"
   ]
  },
  {
   "cell_type": "code",
   "execution_count": 292,
   "id": "4a4508b8",
   "metadata": {},
   "outputs": [
    {
     "name": "stdout",
     "output_type": "stream",
     "text": [
      "Mean square error: 0.06396917620794708\n",
      "Mean absolute error: 0.23331754117277873\n",
      "R-square: 0.9090173681436428\n"
     ]
    }
   ],
   "source": [
    "# Evaluate the model performance\n",
    "mse_normalize = mean_squared_error(y_test_normalize, y_pred_normalize_best)\n",
    "mae_normalize = mean_absolute_error(y_test_normalize, y_pred_normalize_best)\n",
    "\n",
    "r2_normalize = r2_score(y_test_normalize, y_pred_normalize_best)\n",
    "print(\"Mean square error:\", mse_normalize)\n",
    "print(\"Mean absolute error:\", mae_normalize)\n",
    "print(\"R-square:\", r2_normalize)"
   ]
  },
  {
   "cell_type": "code",
   "execution_count": 293,
   "id": "bf5558a8",
   "metadata": {},
   "outputs": [],
   "source": [
    "#perform gradient descent\n",
    "# creating a function for gradient decent\n",
    "\n",
    "def gradient_descent_Convergence(X,y,learning_rate, num_iterations):\n",
    "    # Initialize parameters and other variables\n",
    "    theta0 = 0\n",
    "    theta1 = 0\n",
    "    m = len(X)\n",
    "    losses = []\n",
    "    convergence_threshold = 1e-6 # If the change is smaller than the convergence_threshold, the algorithm is considered to have converged, and the loop is terminated early.\n",
    "    converged = False\n",
    "\n",
    "    # Perform gradient descent\n",
    "    for _ in range(num_iterations):\n",
    "        y_pred = theta0 + theta1 * X  # Calculate y_pred for the current parameters\n",
    "        error = (y_pred - y)\n",
    "        \n",
    "        # Calculating gradient and updating parameters didn't work\n",
    "        # the o/p was Gradient Descent has not converge\n",
    "        \n",
    "#         # Update parameters using the gradient\n",
    "#         theta0_gradient = (2/m) * np.sum(error)\n",
    "#         theta1_gradient = (2/m) * np.sum(error * X)  \n",
    "               \n",
    "            \n",
    "#         # Update parameters using the gradients\n",
    "#         theta0 -= learning_rate  * theta0_gradient\n",
    "#         theta1 -= learning_rate * theta1_gradient\n",
    "        \n",
    "         \n",
    "        \n",
    "        # Calculate the MSE loss\n",
    "        loss = np.mean(error ** 2)\n",
    "        losses.append(loss)\n",
    "    \n",
    "        # Check for convergence\n",
    "        if _ > 0:\n",
    "            loss_change = losses[-2] - losses[-1]\n",
    "            if abs(loss_change) < convergence_threshold:\n",
    "                converged = True\n",
    "                break\n",
    "\n",
    "    if converged:\n",
    "        print(\"Gradient Descent has converged.\")\n",
    "    else:\n",
    "        print(\"Gradient Descent has not converged.\")\n",
    "       \n",
    "    "
   ]
  },
  {
   "cell_type": "code",
   "execution_count": 294,
   "id": "71a5d7cf",
   "metadata": {},
   "outputs": [],
   "source": [
    "# Alternative way for convergence creating batches and while updating parameters\n",
    "\n",
    "# def gradient_descent_Convergence(X, y, learning_rate, num_iterations, batch_size=32, convergence_threshold=1e-9):\n",
    "#     # Initialize parameters and other variables\n",
    "#     theta0 = 0  # Intercept\n",
    "#     theta1 = 0  # Slope\n",
    "#     m = len(X)  # Number of data points\n",
    "#     losses = []  # store loss at each iteration\n",
    "\n",
    "#     # Feature scaling\n",
    "#     #X_normalized = (X - np.mean(X)) / np.std(X)\n",
    "    \n",
    "#     # Stochastic Gradient Descent (SGD) algorithm with momentum\n",
    "#     beta = 0.9  # Momentum parameter\n",
    "#     momentum_theta0 = 0\n",
    "#     momentum_theta1 = 0\n",
    "    \n",
    "#     for _ in range(num_iterations):\n",
    "#         # Shuffle the data and create mini-batches\n",
    "#         indices = np.random.permutation(m)\n",
    "#         X_shuffled = X[indices]\n",
    "#         y_shuffled = y[indices]\n",
    "#         num_batches = m // batch_size\n",
    "\n",
    "#         for batch in range(num_batches):\n",
    "#             # Extract mini-batch\n",
    "#             start_idx = batch * batch_size\n",
    "#             end_idx = (batch + 1) * batch_size\n",
    "#             X_batch = X_shuffled[start_idx:end_idx]\n",
    "#             y_batch = y_shuffled[start_idx:end_idx]\n",
    "\n",
    "#             # Predict the salary using the current parameters\n",
    "#             y_pred = theta0 + theta1 * X_batch\n",
    "            \n",
    "#             # Compute the errors (difference between predicted and actual salary)\n",
    "#             error = y_pred - y_batch\n",
    "            \n",
    "#             # Update parameters using the gradients with momentum\n",
    "#             theta0_gradient = (2/batch_size) * np.sum(error)\n",
    "#             theta1_gradient = (2/batch_size) * np.sum(error * X_batch)\n",
    "            \n",
    "#             momentum_theta0 = beta * momentum_theta0 + (1 - beta) * theta0_gradient\n",
    "#             momentum_theta1 = beta * momentum_theta1 + (1 - beta) * theta1_gradient\n",
    "            \n",
    "#             theta0 -= learning_rate * momentum_theta0\n",
    "#             theta1 -= learning_rate * momentum_theta1\n",
    "\n",
    "#         # Calculate loss and check for convergence\n",
    "#         y_pred_all = theta0 + theta1 * X\n",
    "#         loss = np.mean((y_pred_all - y)**2)\n",
    "#         losses.append(loss)\n",
    "        \n",
    "#         if len(losses) > 1:\n",
    "#             loss_change = losses[-2] - losses[-1]\n",
    "            \n",
    "#             if abs(loss_change) < convergence_threshold:\n",
    "#                 print(\"Gradient Descent has converged\")\n",
    "#                 return \n",
    "        \n",
    "#     print(\"Gradient Descent has not converged\")\n",
    "#     return "
   ]
  },
  {
   "cell_type": "code",
   "execution_count": 295,
   "id": "7ae9ebce",
   "metadata": {},
   "outputs": [
    {
     "name": "stdout",
     "output_type": "stream",
     "text": [
      "Gradient Descent has converged.\n"
     ]
    }
   ],
   "source": [
    "# Hyperparameters\n",
    "learning_rate = 0.001\n",
    "num_iterations = 1000\n",
    "\n",
    "# Call the gradient descent function\n",
    "gradient_descent_Convergence(X,y, learning_rate, num_iterations) # X and y are normalized values"
   ]
  },
  {
   "cell_type": "markdown",
   "id": "50b6b403",
   "metadata": {},
   "source": [
    "If the message \"Gradient Descent has converged\" is printed, it means that the gradient descent algorithm reached a point where the loss function stopped improving or reached a minimum within the specified number of iterations. \n",
    "In other words, the optimization process found the best-fitted line (parameters theta0 and theta1) that minimizes the mean squared error between the predicted salaries and the actual salaries."
   ]
  },
  {
   "cell_type": "markdown",
   "id": "ce89c909",
   "metadata": {},
   "source": [
    "## Conclusion"
   ]
  },
  {
   "cell_type": "markdown",
   "id": "0688abf3",
   "metadata": {},
   "source": [
    "Let's analyze the results and draw conclusions from it:\n",
    "\n",
    "1. Initial Linear Regression Results:\n",
    "   - Intercept (theta0): 6388.514788821579\n",
    "   - Slope (theta1): 12063.80655878697\n",
    "   - Mean square error: 110306234.52140729\n",
    "   - Mean absolute error: 9009.942541373912\n",
    "   - R-square: 0.7840502926714972\n",
    "\n",
    "2. Hyperparameter Tuning Results after GridSearchCV:\n",
    "   - Best Model's Mean square error: 49830096.855908334\n",
    "   - Best Model's Mean absolute error: 6286.453830757745\n",
    "   - Best Model's R-square: 0.9024461774180498\n",
    "\n",
    "3. Gradient Descent on Normalized Data:\n",
    "   - Intercept (theta0): -0.01709780749385571\n",
    "   - Slope (theta1): 0.8782731940520544\n",
    "   - Mean square error: 0.06396917620794708\n",
    "   - Mean absolute error: 0.23331754117277873\n",
    "   - R-square: 0.9090173681436428\n",
    "\n",
    "From the results, we can make the following conclusions:\n",
    "\n",
    "1. **Model Improvement after Hyperparameter Tuning**:\n",
    "   Hyperparameter tuning using GridSearchCV improved the performance of the initial linear regression model significantly. The mean square error reduced from 110306234.52 to 49830096.86, and the mean absolute error decreased from 9009.94 to 6286.45. The R-square value also improved from 0.784 to 0.902, indicating a better fit of the model to the data.\n",
    "\n",
    "2. **Impact of Normalization on Gradient Descent**:\n",
    "   When performed gradient descent on the normalized data, it obtained significantly smaller coefficients for both the intercept and slope (theta0 and theta1) compared to the unnormalized data. This suggests that normalization helps the optimization algorithm converge faster and can lead to better stability and performance.\n",
    "\n",
    "3. **Superior Model Performance after Normalization and Hyperparameter Tuning**:\n",
    "   The model trained on the normalized data and fine-tuned with hyperparameter tuning achieved the best results overall. The mean square error further decreased to 0.063969, the mean absolute error reduced to 0.233318, and the R-square improved to 0.909017. This indicates that normalization, combined with hyperparameter tuning, leads to a more accurate and better-performing model.\n",
    "\n",
    "4. **Convergence of Gradient Descent**:\n",
    "   The statement \"Gradient Descent has converged\" indicates that the optimization process reached a point where further iterations are not significantly improving the model. This is a positive outcome, as it means the model has found optimal values for the coefficients.\n",
    "\n",
    "In conclusion, the experiment shows that proper hyperparameter tuning and normalization can lead to a significant improvement in model performance for linear regression. The best results were achieved when you used normalized data and performed hyperparameter tuning. These results indicate that the model can effectively predict salaries based on years of experience with high accuracy."
   ]
  },
  {
   "cell_type": "code",
   "execution_count": null,
   "id": "3e698ebe",
   "metadata": {},
   "outputs": [],
   "source": []
  }
 ],
 "metadata": {
  "kernelspec": {
   "display_name": "Python 3 (ipykernel)",
   "language": "python",
   "name": "python3"
  },
  "language_info": {
   "codemirror_mode": {
    "name": "ipython",
    "version": 3
   },
   "file_extension": ".py",
   "mimetype": "text/x-python",
   "name": "python",
   "nbconvert_exporter": "python",
   "pygments_lexer": "ipython3",
   "version": "3.9.12"
  }
 },
 "nbformat": 4,
 "nbformat_minor": 5
}
